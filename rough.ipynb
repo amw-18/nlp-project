{
 "metadata": {
  "language_info": {
   "codemirror_mode": {
    "name": "ipython",
    "version": 3
   },
   "file_extension": ".py",
   "mimetype": "text/x-python",
   "name": "python",
   "nbconvert_exporter": "python",
   "pygments_lexer": "ipython3",
   "version": "3.7.7"
  },
  "orig_nbformat": 2,
  "kernelspec": {
   "name": "python377jvsc74a57bd059dfa7771b5625019fdc13c6b139916ed136e1d5f9bb81b4dff69d6a0419b4bf",
   "display_name": "Python 3.7.7 64-bit ('dsenv': conda)"
  }
 },
 "nbformat": 4,
 "nbformat_minor": 2,
 "cells": [
  {
   "cell_type": "code",
   "execution_count": 2,
   "metadata": {},
   "outputs": [
    {
     "output_type": "stream",
     "name": "stdout",
     "text": [
      "0 1\n0 2\n1 2\n"
     ]
    }
   ],
   "source": [
    "n = 3\n",
    "count = 0\n",
    "for i in range(n):\n",
    "    for j in range(i+1, n):\n",
    "        p"
   ]
  }
 ]
}